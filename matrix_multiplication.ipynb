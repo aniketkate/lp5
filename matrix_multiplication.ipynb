{
  "nbformat": 4,
  "nbformat_minor": 0,
  "metadata": {
    "colab": {
      "provenance": [],
      "gpuType": "T4"
    },
    "kernelspec": {
      "name": "python3",
      "display_name": "Python 3"
    },
    "language_info": {
      "name": "python"
    },
    "accelerator": "GPU"
  },
  "cells": [
    {
      "cell_type": "code",
      "execution_count": 1,
      "metadata": {
        "colab": {
          "base_uri": "https://localhost:8080/"
        },
        "id": "-HsnAlT-ofK4",
        "outputId": "dea6d2ce-41e9-43dd-be93-889128fcc11e"
      },
      "outputs": [
        {
          "output_type": "stream",
          "name": "stdout",
          "text": [
            "Collecting git+https://github.com/afnan47/cuda.git\n",
            "  Cloning https://github.com/afnan47/cuda.git to /tmp/pip-req-build-kpazgick\n",
            "  Running command git clone --filter=blob:none --quiet https://github.com/afnan47/cuda.git /tmp/pip-req-build-kpazgick\n",
            "  Resolved https://github.com/afnan47/cuda.git to commit aac710a35f52bb78ab34d2e52517237941399eff\n",
            "  Preparing metadata (setup.py) ... \u001b[?25l\u001b[?25hdone\n",
            "Building wheels for collected packages: NVCCPlugin\n",
            "  Building wheel for NVCCPlugin (setup.py) ... \u001b[?25l\u001b[?25hdone\n",
            "  Created wheel for NVCCPlugin: filename=NVCCPlugin-0.0.2-py3-none-any.whl size=4290 sha256=895633dc8c3f2aa2ec66d476270f4e3a63c59aef1b52f52b0b7b963e1d6894dc\n",
            "  Stored in directory: /tmp/pip-ephem-wheel-cache-tndtk_rd/wheels/bc/4e/e0/2d86bd15f671dbeb32144013f1159dba09757fde36dc51a963\n",
            "Successfully built NVCCPlugin\n",
            "Installing collected packages: NVCCPlugin\n",
            "Successfully installed NVCCPlugin-0.0.2\n",
            "created output directory at /content/src\n",
            "Out bin /content/result.out\n"
          ]
        }
      ],
      "source": [
        " !pip install git+https://github.com/afnan47/cuda.git\n",
        " %load_ext nvcc_plugin"
      ]
    },
    {
      "cell_type": "code",
      "source": [
        " %%writefile matrix_multiply.cu\n",
        " #include <iostream>\n",
        " using namespace std;\n",
        " // CUDA kernel to multiply matrices\n",
        " __global__ void multiply(int* A, int* B, int* C, int size) {\n",
        "    int row = blockIdx.y * blockDim.y + threadIdx.y;\n",
        "    int col = blockIdx.x * blockDim.x + threadIdx.x;\n",
        "    if (row < size && col < size) {\n",
        "        int sum = 0;\n",
        "        for (int i = 0; i < size; i++) {\n",
        "            sum += A[row * size + i] * B[i * size + col];\n",
        "        }\n",
        "        C[row * size + col] = sum;\n",
        "    }\n",
        " }\n",
        " void initialize(int* matrix, int size) {\n",
        "    for (int i = 0; i < size * size; i++) {\n",
        "        matrix[i] = rand() % 10;\n",
        "    }\n",
        " }\n",
        " void print(int* matrix, int size) {\n",
        "    for (int row = 0; row < size; row++) {\n",
        "        for (int col = 0; col < size; col++) {\n",
        "            cout << matrix[row * size + col] << \" \";\n",
        "        }\n",
        "        cout << '\\n';\n",
        "    }\n",
        "    cout << '\\n';\n",
        " }\n",
        " int main() {\n",
        "    int N = 2;\n",
        "    size_t matrixBytes = N * N * sizeof(int);\n",
        "    int* A = new int[N * N];\n",
        "    int* B = new int[N * N];\n",
        "    int* C = new int[N * N];\n",
        "    initialize(A, N);\n",
        "    initialize(B, N);\n",
        "    cout << \"Matrix A:\\n\";\n",
        "    print(A, N);\n",
        "    cout << \"Matrix B:\\n\";\n",
        "    print(B, N);\n",
        "    int *d_A, *d_B, *d_C;\n",
        "    cudaError_t err;\n",
        "    // Allocate memory on the device\n",
        "    err = cudaMalloc(&d_A, matrixBytes);\n",
        "    if (err != cudaSuccess) {\n",
        "        cout << \"CUDA malloc failed for A: \" << cudaGetErrorString(err) << endl;\n",
        "        return -1;\n",
        "    }\n",
        "     err = cudaMalloc(&d_B, matrixBytes);\n",
        "    if (err != cudaSuccess) {\n",
        "        cout << \"CUDA malloc failed for B: \" << cudaGetErrorString(err) << endl;\n",
        "        return -1;\n",
        "    }\n",
        "    err = cudaMalloc(&d_C, matrixBytes);\n",
        "    if (err != cudaSuccess) {\n",
        "        cout << \"CUDA malloc failed for C: \" << cudaGetErrorString(err) << endl;\n",
        "        return -1;\n",
        "    }\n",
        "    // Copy data from host to device\n",
        "    err = cudaMemcpy(d_A, A, matrixBytes, cudaMemcpyHostToDevice);\n",
        "    if (err != cudaSuccess) {\n",
        "        cout << \"CUDA memcpy failed for A: \" << cudaGetErrorString(err) << endl;\n",
        "        return -1;\n",
        "    }\n",
        "    err = cudaMemcpy(d_B, B, matrixBytes, cudaMemcpyHostToDevice);\n",
        "    if (err != cudaSuccess) {\n",
        "        cout << \"CUDA memcpy failed for B: \" << cudaGetErrorString(err) << endl;\n",
        "        return -1;\n",
        "    }\n",
        "    // Thread and block dimensions\n",
        "    dim3 threads(2, 2);\n",
        "    dim3 blocks((N + threads.x - 1) / threads.x, (N + threads.y - 1) / threads.y);\n",
        "    // Launch kernel\n",
        "    multiply<<<blocks, threads>>>(d_A, d_B, d_C, N);\n",
        "    // Synchronize to make sure the kernel finishes\n",
        "    cudaDeviceSynchronize();\n",
        "    // Check for kernel launch errors\n",
        "    err = cudaGetLastError();\n",
        "    if (err != cudaSuccess) {\n",
        "        cout << \"CUDA kernel launch failed: \" << cudaGetErrorString(err) << endl;\n",
        "        return -1;\n",
        "    }\n",
        "    // Copy result back to host\n",
        "    err = cudaMemcpy(C, d_C, matrixBytes, cudaMemcpyDeviceToHost);\n",
        "    if (err != cudaSuccess) {\n",
        "        cout << \"CUDA memcpy failed for C: \" << cudaGetErrorString(err) << endl;\n",
        "        return -1;\n",
        "    }\n",
        "    // Output the result\n",
        "    cout << \"Multiplication of Matrix A and B:\\n\";\n",
        "    print(C, N);\n",
        "    // Clean up\n",
        "    delete[] A;\n",
        "    delete[] B;\n",
        "    delete[] C;\n",
        "    cudaFree(d_A);\n",
        "    cudaFree(d_B);\n",
        "    cudaFree(d_C);\n",
        "    return 0;\n",
        " }"
      ],
      "metadata": {
        "colab": {
          "base_uri": "https://localhost:8080/"
        },
        "id": "wC4qVmY4of-5",
        "outputId": "25c8a3ca-d030-4a38-cbbb-249352c2f94f"
      },
      "execution_count": 4,
      "outputs": [
        {
          "output_type": "stream",
          "name": "stdout",
          "text": [
            "Writing matrix_multiply.cu\n"
          ]
        }
      ]
    },
    {
      "cell_type": "code",
      "source": [
        " !nvcc -arch=sm_75 matrix_multiply.cu -o matrix_multiply\n",
        " !./matrix_multiply"
      ],
      "metadata": {
        "colab": {
          "base_uri": "https://localhost:8080/"
        },
        "id": "7E0h1jL1o6d3",
        "outputId": "541109c5-2bb6-40ad-b9ee-4b11946750e5"
      },
      "execution_count": 5,
      "outputs": [
        {
          "output_type": "stream",
          "name": "stdout",
          "text": [
            "Matrix A:\n",
            "3 6 \n",
            "7 5 \n",
            "\n",
            "Matrix B:\n",
            "3 5 \n",
            "6 2 \n",
            "\n",
            "Multiplication of Matrix A and B:\n",
            "45 27 \n",
            "51 45 \n",
            "\n"
          ]
        }
      ]
    },
    {
      "cell_type": "code",
      "source": [],
      "metadata": {
        "id": "fC4dIpRwqURK"
      },
      "execution_count": null,
      "outputs": []
    }
  ]
}