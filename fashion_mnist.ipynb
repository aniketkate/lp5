{
 "cells": [
  {
   "cell_type": "code",
   "execution_count": 2,
   "id": "f709b22b-3a36-4a37-a372-8a5283ef8f9a",
   "metadata": {},
   "outputs": [
    {
     "name": "stdout",
     "output_type": "stream",
     "text": [
      "Collecting tensorflow\n",
      "  Downloading tensorflow-2.19.0-cp312-cp312-win_amd64.whl.metadata (4.1 kB)\n",
      "Collecting absl-py>=1.0.0 (from tensorflow)\n",
      "  Downloading absl_py-2.2.2-py3-none-any.whl.metadata (2.6 kB)\n",
      "Collecting astunparse>=1.6.0 (from tensorflow)\n",
      "  Downloading astunparse-1.6.3-py2.py3-none-any.whl.metadata (4.4 kB)\n",
      "Collecting flatbuffers>=24.3.25 (from tensorflow)\n",
      "  Downloading flatbuffers-25.2.10-py2.py3-none-any.whl.metadata (875 bytes)\n",
      "Collecting gast!=0.5.0,!=0.5.1,!=0.5.2,>=0.2.1 (from tensorflow)\n",
      "  Downloading gast-0.6.0-py3-none-any.whl.metadata (1.3 kB)\n",
      "Collecting google-pasta>=0.1.1 (from tensorflow)\n",
      "  Downloading google_pasta-0.2.0-py3-none-any.whl.metadata (814 bytes)\n",
      "Collecting libclang>=13.0.0 (from tensorflow)\n",
      "  Downloading libclang-18.1.1-py2.py3-none-win_amd64.whl.metadata (5.3 kB)\n",
      "Collecting opt-einsum>=2.3.2 (from tensorflow)\n",
      "  Downloading opt_einsum-3.4.0-py3-none-any.whl.metadata (6.3 kB)\n",
      "Requirement already satisfied: packaging in c:\\users\\anike\\anaconda3\\lib\\site-packages (from tensorflow) (24.1)\n",
      "Requirement already satisfied: protobuf!=4.21.0,!=4.21.1,!=4.21.2,!=4.21.3,!=4.21.4,!=4.21.5,<6.0.0dev,>=3.20.3 in c:\\users\\anike\\anaconda3\\lib\\site-packages (from tensorflow) (4.25.3)\n",
      "Requirement already satisfied: requests<3,>=2.21.0 in c:\\users\\anike\\anaconda3\\lib\\site-packages (from tensorflow) (2.32.3)\n",
      "Requirement already satisfied: setuptools in c:\\users\\anike\\anaconda3\\lib\\site-packages (from tensorflow) (75.1.0)\n",
      "Requirement already satisfied: six>=1.12.0 in c:\\users\\anike\\anaconda3\\lib\\site-packages (from tensorflow) (1.16.0)\n",
      "Collecting termcolor>=1.1.0 (from tensorflow)\n",
      "  Downloading termcolor-3.1.0-py3-none-any.whl.metadata (6.4 kB)\n",
      "Requirement already satisfied: typing-extensions>=3.6.6 in c:\\users\\anike\\anaconda3\\lib\\site-packages (from tensorflow) (4.11.0)\n",
      "Requirement already satisfied: wrapt>=1.11.0 in c:\\users\\anike\\anaconda3\\lib\\site-packages (from tensorflow) (1.14.1)\n",
      "Collecting grpcio<2.0,>=1.24.3 (from tensorflow)\n",
      "  Downloading grpcio-1.71.0-cp312-cp312-win_amd64.whl.metadata (4.0 kB)\n",
      "Collecting tensorboard~=2.19.0 (from tensorflow)\n",
      "  Using cached tensorboard-2.19.0-py3-none-any.whl.metadata (1.8 kB)\n",
      "Collecting keras>=3.5.0 (from tensorflow)\n",
      "  Downloading keras-3.9.2-py3-none-any.whl.metadata (6.1 kB)\n",
      "Requirement already satisfied: numpy<2.2.0,>=1.26.0 in c:\\users\\anike\\anaconda3\\lib\\site-packages (from tensorflow) (1.26.4)\n",
      "Requirement already satisfied: h5py>=3.11.0 in c:\\users\\anike\\anaconda3\\lib\\site-packages (from tensorflow) (3.11.0)\n",
      "Collecting ml-dtypes<1.0.0,>=0.5.1 (from tensorflow)\n",
      "  Downloading ml_dtypes-0.5.1-cp312-cp312-win_amd64.whl.metadata (22 kB)\n",
      "Requirement already satisfied: wheel<1.0,>=0.23.0 in c:\\users\\anike\\anaconda3\\lib\\site-packages (from astunparse>=1.6.0->tensorflow) (0.44.0)\n",
      "Requirement already satisfied: rich in c:\\users\\anike\\anaconda3\\lib\\site-packages (from keras>=3.5.0->tensorflow) (13.7.1)\n",
      "Collecting namex (from keras>=3.5.0->tensorflow)\n",
      "  Downloading namex-0.0.9-py3-none-any.whl.metadata (322 bytes)\n",
      "Collecting optree (from keras>=3.5.0->tensorflow)\n",
      "  Downloading optree-0.15.0-cp312-cp312-win_amd64.whl.metadata (49 kB)\n",
      "Requirement already satisfied: charset-normalizer<4,>=2 in c:\\users\\anike\\anaconda3\\lib\\site-packages (from requests<3,>=2.21.0->tensorflow) (3.3.2)\n",
      "Requirement already satisfied: idna<4,>=2.5 in c:\\users\\anike\\anaconda3\\lib\\site-packages (from requests<3,>=2.21.0->tensorflow) (3.7)\n",
      "Requirement already satisfied: urllib3<3,>=1.21.1 in c:\\users\\anike\\anaconda3\\lib\\site-packages (from requests<3,>=2.21.0->tensorflow) (2.2.3)\n",
      "Requirement already satisfied: certifi>=2017.4.17 in c:\\users\\anike\\anaconda3\\lib\\site-packages (from requests<3,>=2.21.0->tensorflow) (2025.4.26)\n",
      "Requirement already satisfied: markdown>=2.6.8 in c:\\users\\anike\\anaconda3\\lib\\site-packages (from tensorboard~=2.19.0->tensorflow) (3.4.1)\n",
      "Collecting tensorboard-data-server<0.8.0,>=0.7.0 (from tensorboard~=2.19.0->tensorflow)\n",
      "  Using cached tensorboard_data_server-0.7.2-py3-none-any.whl.metadata (1.1 kB)\n",
      "Requirement already satisfied: werkzeug>=1.0.1 in c:\\users\\anike\\anaconda3\\lib\\site-packages (from tensorboard~=2.19.0->tensorflow) (3.0.3)\n",
      "Requirement already satisfied: MarkupSafe>=2.1.1 in c:\\users\\anike\\anaconda3\\lib\\site-packages (from werkzeug>=1.0.1->tensorboard~=2.19.0->tensorflow) (2.1.3)\n",
      "Requirement already satisfied: markdown-it-py>=2.2.0 in c:\\users\\anike\\anaconda3\\lib\\site-packages (from rich->keras>=3.5.0->tensorflow) (2.2.0)\n",
      "Requirement already satisfied: pygments<3.0.0,>=2.13.0 in c:\\users\\anike\\anaconda3\\lib\\site-packages (from rich->keras>=3.5.0->tensorflow) (2.15.1)\n",
      "Requirement already satisfied: mdurl~=0.1 in c:\\users\\anike\\anaconda3\\lib\\site-packages (from markdown-it-py>=2.2.0->rich->keras>=3.5.0->tensorflow) (0.1.0)\n",
      "Downloading tensorflow-2.19.0-cp312-cp312-win_amd64.whl (376.0 MB)\n",
      "   ---------------------------------------- 0.0/376.0 MB ? eta -:--:--\n",
      "   ---------------------------------------- 3.7/376.0 MB 19.8 MB/s eta 0:00:19\n",
      "    --------------------------------------- 5.8/376.0 MB 16.0 MB/s eta 0:00:24\n",
      "    --------------------------------------- 7.3/376.0 MB 12.6 MB/s eta 0:00:30\n",
      "    --------------------------------------- 9.2/376.0 MB 11.2 MB/s eta 0:00:33\n",
      "   - -------------------------------------- 11.0/376.0 MB 10.6 MB/s eta 0:00:35\n",
      "   - -------------------------------------- 12.8/376.0 MB 10.5 MB/s eta 0:00:35\n",
      "   - -------------------------------------- 15.2/376.0 MB 10.5 MB/s eta 0:00:35\n",
      "   - -------------------------------------- 17.6/376.0 MB 10.6 MB/s eta 0:00:34\n",
      "   -- ------------------------------------- 19.9/376.0 MB 10.8 MB/s eta 0:00:34\n",
      "   -- ------------------------------------- 22.5/376.0 MB 11.0 MB/s eta 0:00:33\n",
      "   -- ------------------------------------- 24.6/376.0 MB 10.8 MB/s eta 0:00:33\n",
      "   -- ------------------------------------- 27.0/376.0 MB 10.9 MB/s eta 0:00:33\n",
      "   --- ------------------------------------ 29.4/376.0 MB 10.9 MB/s eta 0:00:32\n",
      "   --- ------------------------------------ 31.7/376.0 MB 11.0 MB/s eta 0:00:32\n",
      "   --- ------------------------------------ 34.1/376.0 MB 11.0 MB/s eta 0:00:31\n",
      "   --- ------------------------------------ 37.2/376.0 MB 11.2 MB/s eta 0:00:31\n",
      "   ---- ----------------------------------- 39.8/376.0 MB 11.4 MB/s eta 0:00:30\n",
      "   ---- ----------------------------------- 41.7/376.0 MB 11.2 MB/s eta 0:00:30\n",
      "   ---- ----------------------------------- 43.5/376.0 MB 11.1 MB/s eta 0:00:31\n",
      "   ---- ----------------------------------- 45.4/376.0 MB 11.0 MB/s eta 0:00:31\n",
      "   ----- ---------------------------------- 47.4/376.0 MB 10.9 MB/s eta 0:00:31\n",
      "   ----- ---------------------------------- 49.8/376.0 MB 10.9 MB/s eta 0:00:30\n",
      "   ----- ---------------------------------- 51.9/376.0 MB 11.0 MB/s eta 0:00:30\n",
      "   ----- ---------------------------------- 54.5/376.0 MB 11.0 MB/s eta 0:00:30\n",
      "   ------ --------------------------------- 57.1/376.0 MB 11.1 MB/s eta 0:00:29\n",
      "   ------ --------------------------------- 60.0/376.0 MB 11.2 MB/s eta 0:00:29\n",
      "   ------ --------------------------------- 62.4/376.0 MB 11.2 MB/s eta 0:00:28\n",
      "   ------ --------------------------------- 65.0/376.0 MB 11.3 MB/s eta 0:00:28\n",
      "   ------- -------------------------------- 67.6/376.0 MB 11.3 MB/s eta 0:00:28\n",
      "   ------- -------------------------------- 70.0/376.0 MB 11.3 MB/s eta 0:00:28\n",
      "   ------- -------------------------------- 72.9/376.0 MB 11.4 MB/s eta 0:00:27\n",
      "   -------- ------------------------------- 75.2/376.0 MB 11.4 MB/s eta 0:00:27\n",
      "   -------- ------------------------------- 77.6/376.0 MB 11.4 MB/s eta 0:00:27\n",
      "   -------- ------------------------------- 80.0/376.0 MB 11.5 MB/s eta 0:00:26\n",
      "   -------- ------------------------------- 82.8/376.0 MB 11.5 MB/s eta 0:00:26\n",
      "   --------- ------------------------------ 86.0/376.0 MB 11.6 MB/s eta 0:00:26\n",
      "   --------- ------------------------------ 88.6/376.0 MB 11.6 MB/s eta 0:00:25\n",
      "   --------- ------------------------------ 90.7/376.0 MB 11.6 MB/s eta 0:00:25\n",
      "   --------- ------------------------------ 93.3/376.0 MB 11.6 MB/s eta 0:00:25\n",
      "   ---------- ----------------------------- 95.9/376.0 MB 11.7 MB/s eta 0:00:25\n",
      "   ---------- ----------------------------- 98.8/376.0 MB 11.7 MB/s eta 0:00:24\n",
      "   ---------- ---------------------------- 100.9/376.0 MB 11.7 MB/s eta 0:00:24\n",
      "   ---------- ---------------------------- 103.8/376.0 MB 11.7 MB/s eta 0:00:24\n",
      "   ----------- --------------------------- 107.2/376.0 MB 11.8 MB/s eta 0:00:23\n",
      "   ----------- --------------------------- 109.1/376.0 MB 11.8 MB/s eta 0:00:23\n",
      "   ----------- --------------------------- 111.1/376.0 MB 11.7 MB/s eta 0:00:23\n",
      "   ----------- --------------------------- 113.2/376.0 MB 11.7 MB/s eta 0:00:23\n",
      "   ------------ -------------------------- 115.9/376.0 MB 11.7 MB/s eta 0:00:23\n",
      "   ------------ -------------------------- 118.2/376.0 MB 11.7 MB/s eta 0:00:23\n",
      "   ------------ -------------------------- 120.8/376.0 MB 11.7 MB/s eta 0:00:22\n",
      "   ------------ -------------------------- 122.7/376.0 MB 11.7 MB/s eta 0:00:22\n",
      "   ------------ -------------------------- 124.3/376.0 MB 11.6 MB/s eta 0:00:22\n",
      "   ------------- ------------------------- 126.1/376.0 MB 11.6 MB/s eta 0:00:22\n",
      "   ------------- ------------------------- 128.2/376.0 MB 11.5 MB/s eta 0:00:22\n",
      "   ------------- ------------------------- 130.3/376.0 MB 11.5 MB/s eta 0:00:22\n",
      "   ------------- ------------------------- 132.6/376.0 MB 11.5 MB/s eta 0:00:22\n",
      "   -------------- ------------------------ 135.0/376.0 MB 11.5 MB/s eta 0:00:21\n",
      "   -------------- ------------------------ 137.9/376.0 MB 11.5 MB/s eta 0:00:21\n",
      "   -------------- ------------------------ 140.8/376.0 MB 11.6 MB/s eta 0:00:21\n",
      "   -------------- ------------------------ 143.9/376.0 MB 11.6 MB/s eta 0:00:20\n",
      "   --------------- ----------------------- 145.8/376.0 MB 11.6 MB/s eta 0:00:20\n",
      "   --------------- ----------------------- 147.6/376.0 MB 11.5 MB/s eta 0:00:20\n",
      "   --------------- ----------------------- 149.7/376.0 MB 11.5 MB/s eta 0:00:20\n",
      "   --------------- ----------------------- 152.0/376.0 MB 11.5 MB/s eta 0:00:20\n",
      "   ---------------- ---------------------- 154.4/376.0 MB 11.5 MB/s eta 0:00:20\n",
      "   ---------------- ---------------------- 157.0/376.0 MB 11.5 MB/s eta 0:00:19\n",
      "   ---------------- ---------------------- 159.9/376.0 MB 11.6 MB/s eta 0:00:19\n",
      "   ---------------- ---------------------- 162.8/376.0 MB 11.6 MB/s eta 0:00:19\n",
      "   ----------------- --------------------- 165.7/376.0 MB 11.6 MB/s eta 0:00:19\n",
      "   ----------------- --------------------- 168.3/376.0 MB 11.7 MB/s eta 0:00:18\n",
      "   ----------------- --------------------- 171.2/376.0 MB 11.7 MB/s eta 0:00:18\n",
      "   ------------------ -------------------- 173.8/376.0 MB 11.7 MB/s eta 0:00:18\n",
      "   ------------------ -------------------- 176.7/376.0 MB 11.7 MB/s eta 0:00:18\n",
      "   ------------------ -------------------- 179.6/376.0 MB 11.7 MB/s eta 0:00:17\n",
      "   ------------------ -------------------- 182.2/376.0 MB 11.7 MB/s eta 0:00:17\n",
      "   ------------------- ------------------- 184.0/376.0 MB 11.7 MB/s eta 0:00:17\n",
      "   ------------------- ------------------- 185.9/376.0 MB 11.7 MB/s eta 0:00:17\n",
      "   ------------------- ------------------- 188.0/376.0 MB 11.7 MB/s eta 0:00:17\n",
      "   ------------------- ------------------- 190.3/376.0 MB 11.7 MB/s eta 0:00:16\n",
      "   -------------------- ------------------ 192.9/376.0 MB 11.7 MB/s eta 0:00:16\n",
      "   -------------------- ------------------ 195.8/376.0 MB 11.7 MB/s eta 0:00:16\n",
      "   -------------------- ------------------ 198.7/376.0 MB 11.7 MB/s eta 0:00:16\n",
      "   -------------------- ------------------ 201.6/376.0 MB 11.8 MB/s eta 0:00:15\n",
      "   --------------------- ----------------- 204.2/376.0 MB 11.8 MB/s eta 0:00:15\n",
      "   --------------------- ----------------- 206.6/376.0 MB 11.8 MB/s eta 0:00:15\n",
      "   --------------------- ----------------- 209.5/376.0 MB 11.8 MB/s eta 0:00:15\n",
      "   ---------------------- ---------------- 212.3/376.0 MB 11.8 MB/s eta 0:00:14\n",
      "   ---------------------- ---------------- 215.5/376.0 MB 11.8 MB/s eta 0:00:14\n",
      "   ---------------------- ---------------- 217.1/376.0 MB 11.8 MB/s eta 0:00:14\n",
      "   ---------------------- ---------------- 218.9/376.0 MB 11.8 MB/s eta 0:00:14\n",
      "   ---------------------- ---------------- 221.0/376.0 MB 11.7 MB/s eta 0:00:14\n",
      "   ----------------------- --------------- 223.6/376.0 MB 11.7 MB/s eta 0:00:13\n",
      "   ----------------------- --------------- 226.0/376.0 MB 11.7 MB/s eta 0:00:13\n",
      "   ----------------------- --------------- 228.6/376.0 MB 11.8 MB/s eta 0:00:13\n",
      "   ----------------------- --------------- 231.2/376.0 MB 11.8 MB/s eta 0:00:13\n",
      "   ------------------------ -------------- 232.8/376.0 MB 11.7 MB/s eta 0:00:13\n",
      "   ------------------------ -------------- 234.1/376.0 MB 11.7 MB/s eta 0:00:13\n",
      "   ------------------------ -------------- 235.7/376.0 MB 11.6 MB/s eta 0:00:13\n",
      "   ------------------------ -------------- 237.0/376.0 MB 11.6 MB/s eta 0:00:13\n",
      "   ------------------------ -------------- 238.8/376.0 MB 11.5 MB/s eta 0:00:12\n",
      "   ------------------------ -------------- 240.6/376.0 MB 11.5 MB/s eta 0:00:12\n",
      "   ------------------------- ------------- 243.0/376.0 MB 11.5 MB/s eta 0:00:12\n",
      "   ------------------------- ------------- 245.1/376.0 MB 11.5 MB/s eta 0:00:12\n",
      "   ------------------------- ------------- 247.7/376.0 MB 11.5 MB/s eta 0:00:12\n",
      "   ------------------------- ------------- 250.6/376.0 MB 11.5 MB/s eta 0:00:11\n",
      "   -------------------------- ------------ 253.5/376.0 MB 11.5 MB/s eta 0:00:11\n",
      "   -------------------------- ------------ 256.4/376.0 MB 11.6 MB/s eta 0:00:11\n",
      "   -------------------------- ------------ 259.3/376.0 MB 11.6 MB/s eta 0:00:11\n",
      "   --------------------------- ----------- 261.1/376.0 MB 11.6 MB/s eta 0:00:10\n",
      "   --------------------------- ----------- 262.9/376.0 MB 11.5 MB/s eta 0:00:10\n",
      "   --------------------------- ----------- 265.0/376.0 MB 11.5 MB/s eta 0:00:10\n",
      "   --------------------------- ----------- 267.4/376.0 MB 11.5 MB/s eta 0:00:10\n",
      "   ---------------------------- ---------- 270.0/376.0 MB 11.5 MB/s eta 0:00:10\n",
      "   ---------------------------- ---------- 272.6/376.0 MB 11.6 MB/s eta 0:00:09\n",
      "   ---------------------------- ---------- 275.8/376.0 MB 11.6 MB/s eta 0:00:09\n",
      "   ---------------------------- ---------- 277.9/376.0 MB 11.6 MB/s eta 0:00:09\n",
      "   ---------------------------- ---------- 278.9/376.0 MB 11.6 MB/s eta 0:00:09\n",
      "   ----------------------------- --------- 279.7/376.0 MB 11.5 MB/s eta 0:00:09\n",
      "   ----------------------------- --------- 281.0/376.0 MB 11.5 MB/s eta 0:00:09\n",
      "   ----------------------------- --------- 282.3/376.0 MB 11.4 MB/s eta 0:00:09\n",
      "   ----------------------------- --------- 283.9/376.0 MB 11.4 MB/s eta 0:00:09\n",
      "   ----------------------------- --------- 285.7/376.0 MB 11.3 MB/s eta 0:00:08\n",
      "   ----------------------------- --------- 287.6/376.0 MB 11.3 MB/s eta 0:00:08\n",
      "   ------------------------------ -------- 289.9/376.0 MB 11.3 MB/s eta 0:00:08\n",
      "   ------------------------------ -------- 292.3/376.0 MB 11.3 MB/s eta 0:00:08\n",
      "   ------------------------------ -------- 294.6/376.0 MB 11.3 MB/s eta 0:00:08\n",
      "   ------------------------------ -------- 297.3/376.0 MB 11.3 MB/s eta 0:00:07\n",
      "   ------------------------------- ------- 299.9/376.0 MB 11.3 MB/s eta 0:00:07\n",
      "   ------------------------------- ------- 302.0/376.0 MB 11.3 MB/s eta 0:00:07\n",
      "   ------------------------------- ------- 304.3/376.0 MB 11.3 MB/s eta 0:00:07\n",
      "   ------------------------------- ------- 307.0/376.0 MB 11.4 MB/s eta 0:00:07\n",
      "   -------------------------------- ------ 309.9/376.0 MB 11.4 MB/s eta 0:00:06\n",
      "   -------------------------------- ------ 312.7/376.0 MB 11.4 MB/s eta 0:00:06\n",
      "   -------------------------------- ------ 315.6/376.0 MB 11.5 MB/s eta 0:00:06\n",
      "   -------------------------------- ------ 316.9/376.0 MB 11.4 MB/s eta 0:00:06\n",
      "   --------------------------------- ----- 318.2/376.0 MB 11.4 MB/s eta 0:00:06\n",
      "   --------------------------------- ----- 319.8/376.0 MB 11.3 MB/s eta 0:00:05\n",
      "   --------------------------------- ----- 321.7/376.0 MB 11.3 MB/s eta 0:00:05\n",
      "   --------------------------------- ----- 323.5/376.0 MB 11.2 MB/s eta 0:00:05\n",
      "   --------------------------------- ----- 325.3/376.0 MB 11.2 MB/s eta 0:00:05\n",
      "   --------------------------------- ----- 327.7/376.0 MB 11.2 MB/s eta 0:00:05\n",
      "   ---------------------------------- ---- 330.0/376.0 MB 11.2 MB/s eta 0:00:05\n",
      "   ---------------------------------- ---- 332.7/376.0 MB 11.2 MB/s eta 0:00:04\n",
      "   ---------------------------------- ---- 335.5/376.0 MB 11.2 MB/s eta 0:00:04\n",
      "   ----------------------------------- --- 339.0/376.0 MB 11.2 MB/s eta 0:00:04\n",
      "   ----------------------------------- --- 341.3/376.0 MB 11.2 MB/s eta 0:00:04\n",
      "   ----------------------------------- --- 342.6/376.0 MB 11.2 MB/s eta 0:00:03\n",
      "   ----------------------------------- --- 343.7/376.0 MB 11.1 MB/s eta 0:00:03\n",
      "   ----------------------------------- --- 344.7/376.0 MB 11.1 MB/s eta 0:00:03\n",
      "   ----------------------------------- --- 346.3/376.0 MB 11.0 MB/s eta 0:00:03\n",
      "   ------------------------------------ -- 347.9/376.0 MB 11.0 MB/s eta 0:00:03\n",
      "   ------------------------------------ -- 349.7/376.0 MB 10.9 MB/s eta 0:00:03\n",
      "   ------------------------------------ -- 351.5/376.0 MB 10.9 MB/s eta 0:00:03\n",
      "   ------------------------------------ -- 353.6/376.0 MB 10.9 MB/s eta 0:00:03\n",
      "   ------------------------------------ -- 356.0/376.0 MB 10.9 MB/s eta 0:00:02\n",
      "   ------------------------------------- - 358.4/376.0 MB 10.9 MB/s eta 0:00:02\n",
      "   ------------------------------------- - 361.2/376.0 MB 10.9 MB/s eta 0:00:02\n",
      "   ------------------------------------- - 364.1/376.0 MB 10.9 MB/s eta 0:00:02\n",
      "   ------------------------------------- - 365.7/376.0 MB 10.9 MB/s eta 0:00:01\n",
      "   --------------------------------------  366.7/376.0 MB 10.8 MB/s eta 0:00:01\n",
      "   --------------------------------------  368.3/376.0 MB 10.8 MB/s eta 0:00:01\n",
      "   --------------------------------------  369.6/376.0 MB 10.7 MB/s eta 0:00:01\n",
      "   --------------------------------------  371.5/376.0 MB 10.7 MB/s eta 0:00:01\n",
      "   --------------------------------------  373.6/376.0 MB 10.7 MB/s eta 0:00:01\n",
      "   --------------------------------------  375.7/376.0 MB 10.7 MB/s eta 0:00:01\n",
      "   --------------------------------------  375.9/376.0 MB 10.7 MB/s eta 0:00:01\n",
      "   --------------------------------------  375.9/376.0 MB 10.7 MB/s eta 0:00:01\n",
      "   --------------------------------------  375.9/376.0 MB 10.7 MB/s eta 0:00:01\n",
      "   --------------------------------------  375.9/376.0 MB 10.7 MB/s eta 0:00:01\n",
      "   --------------------------------------  375.9/376.0 MB 10.7 MB/s eta 0:00:01\n",
      "   --------------------------------------  375.9/376.0 MB 10.7 MB/s eta 0:00:01\n",
      "   --------------------------------------- 376.0/376.0 MB 10.1 MB/s eta 0:00:00\n",
      "Downloading absl_py-2.2.2-py3-none-any.whl (135 kB)\n",
      "Downloading astunparse-1.6.3-py2.py3-none-any.whl (12 kB)\n",
      "Downloading flatbuffers-25.2.10-py2.py3-none-any.whl (30 kB)\n",
      "Downloading gast-0.6.0-py3-none-any.whl (21 kB)\n",
      "Downloading google_pasta-0.2.0-py3-none-any.whl (57 kB)\n",
      "Downloading grpcio-1.71.0-cp312-cp312-win_amd64.whl (4.3 MB)\n",
      "   ---------------------------------------- 0.0/4.3 MB ? eta -:--:--\n",
      "   ---------------------- ----------------- 2.4/4.3 MB 11.2 MB/s eta 0:00:01\n",
      "   ---------------------------------------  4.2/4.3 MB 11.5 MB/s eta 0:00:01\n",
      "   ---------------------------------------- 4.3/4.3 MB 9.5 MB/s eta 0:00:00\n",
      "Downloading keras-3.9.2-py3-none-any.whl (1.3 MB)\n",
      "   ---------------------------------------- 0.0/1.3 MB ? eta -:--:--\n",
      "   ---------------------------------------- 1.3/1.3 MB 11.5 MB/s eta 0:00:00\n",
      "Downloading libclang-18.1.1-py2.py3-none-win_amd64.whl (26.4 MB)\n",
      "   ---------------------------------------- 0.0/26.4 MB ? eta -:--:--\n",
      "   --- ------------------------------------ 2.6/26.4 MB 12.5 MB/s eta 0:00:02\n",
      "   -------- ------------------------------- 5.5/26.4 MB 13.4 MB/s eta 0:00:02\n",
      "   ------------- -------------------------- 8.7/26.4 MB 14.1 MB/s eta 0:00:02\n",
      "   ---------------- ----------------------- 10.7/26.4 MB 13.2 MB/s eta 0:00:02\n",
      "   ------------------ --------------------- 12.1/26.4 MB 12.0 MB/s eta 0:00:02\n",
      "   -------------------- ------------------- 13.6/26.4 MB 11.1 MB/s eta 0:00:02\n",
      "   ----------------------- ---------------- 15.5/26.4 MB 10.7 MB/s eta 0:00:02\n",
      "   ------------------------- -------------- 17.0/26.4 MB 10.4 MB/s eta 0:00:01\n",
      "   ----------------------------- ---------- 19.4/26.4 MB 10.5 MB/s eta 0:00:01\n",
      "   -------------------------------- ------- 21.5/26.4 MB 10.4 MB/s eta 0:00:01\n",
      "   ---------------------------------- ----- 23.1/26.4 MB 10.3 MB/s eta 0:00:01\n",
      "   ------------------------------------ --- 24.4/26.4 MB 10.0 MB/s eta 0:00:01\n",
      "   ---------------------------------------  26.0/26.4 MB 9.7 MB/s eta 0:00:01\n",
      "   ---------------------------------------- 26.4/26.4 MB 9.4 MB/s eta 0:00:00\n",
      "Downloading ml_dtypes-0.5.1-cp312-cp312-win_amd64.whl (210 kB)\n",
      "Downloading opt_einsum-3.4.0-py3-none-any.whl (71 kB)\n",
      "Using cached tensorboard-2.19.0-py3-none-any.whl (5.5 MB)\n",
      "Downloading termcolor-3.1.0-py3-none-any.whl (7.7 kB)\n",
      "Using cached tensorboard_data_server-0.7.2-py3-none-any.whl (2.4 kB)\n",
      "Downloading namex-0.0.9-py3-none-any.whl (5.8 kB)\n",
      "Downloading optree-0.15.0-cp312-cp312-win_amd64.whl (307 kB)\n",
      "Installing collected packages: namex, libclang, flatbuffers, termcolor, tensorboard-data-server, optree, opt-einsum, ml-dtypes, grpcio, google-pasta, gast, astunparse, absl-py, tensorboard, keras, tensorflow\n",
      "Successfully installed absl-py-2.2.2 astunparse-1.6.3 flatbuffers-25.2.10 gast-0.6.0 google-pasta-0.2.0 grpcio-1.71.0 keras-3.9.2 libclang-18.1.1 ml-dtypes-0.5.1 namex-0.0.9 opt-einsum-3.4.0 optree-0.15.0 tensorboard-2.19.0 tensorboard-data-server-0.7.2 tensorflow-2.19.0 termcolor-3.1.0\n"
     ]
    }
   ],
   "source": [
    "!pip install tensorflow"
   ]
  },
  {
   "cell_type": "code",
   "execution_count": 20,
   "id": "70e7c2f3-2321-4fa8-91f9-2dd8cb82aedc",
   "metadata": {},
   "outputs": [],
   "source": [
    "from tensorflow.keras.models import Sequential\n",
    "from tensorflow.keras.layers import Dense, Flatten, MaxPooling2D, Conv2D\n",
    "import numpy as np"
   ]
  },
  {
   "cell_type": "code",
   "execution_count": null,
   "id": "2705c98a-5666-4cce-aafe-da04851db883",
   "metadata": {},
   "outputs": [],
   "source": []
  },
  {
   "cell_type": "code",
   "execution_count": 14,
   "id": "24db238d-78cd-4e3e-bfd7-22b29b427ed4",
   "metadata": {},
   "outputs": [],
   "source": [
    "from tensorflow.keras.datasets import fashion_mnist"
   ]
  },
  {
   "cell_type": "code",
   "execution_count": 15,
   "id": "a1a777b2-8ed3-42dc-bade-4a57ac91c132",
   "metadata": {},
   "outputs": [
    {
     "name": "stdout",
     "output_type": "stream",
     "text": [
      "Downloading data from https://storage.googleapis.com/tensorflow/tf-keras-datasets/train-labels-idx1-ubyte.gz\n",
      "\u001b[1m29515/29515\u001b[0m \u001b[32m━━━━━━━━━━━━━━━━━━━━\u001b[0m\u001b[37m\u001b[0m \u001b[1m0s\u001b[0m 0us/step\n",
      "Downloading data from https://storage.googleapis.com/tensorflow/tf-keras-datasets/train-images-idx3-ubyte.gz\n",
      "\u001b[1m26421880/26421880\u001b[0m \u001b[32m━━━━━━━━━━━━━━━━━━━━\u001b[0m\u001b[37m\u001b[0m \u001b[1m4s\u001b[0m 0us/step\n",
      "Downloading data from https://storage.googleapis.com/tensorflow/tf-keras-datasets/t10k-labels-idx1-ubyte.gz\n",
      "\u001b[1m5148/5148\u001b[0m \u001b[32m━━━━━━━━━━━━━━━━━━━━\u001b[0m\u001b[37m\u001b[0m \u001b[1m0s\u001b[0m 0s/step\n",
      "Downloading data from https://storage.googleapis.com/tensorflow/tf-keras-datasets/t10k-images-idx3-ubyte.gz\n",
      "\u001b[1m4422102/4422102\u001b[0m \u001b[32m━━━━━━━━━━━━━━━━━━━━\u001b[0m\u001b[37m\u001b[0m \u001b[1m0s\u001b[0m 0us/step\n"
     ]
    }
   ],
   "source": [
    "(train_x, train_y), (test_x, test_y) = fashion_mnist.load_data()"
   ]
  },
  {
   "cell_type": "code",
   "execution_count": 16,
   "id": "ab4e8192-5fac-473c-8a92-86be8e61d1d1",
   "metadata": {},
   "outputs": [],
   "source": [
    "model = Sequential()"
   ]
  },
  {
   "cell_type": "code",
   "execution_count": 17,
   "id": "f0299cc2-264b-43b5-ba42-28b8e38489fb",
   "metadata": {},
   "outputs": [],
   "source": [
    "model.add(Conv2D(filters=64,kernel_size=(3,3),activation='relu',input_shape=(28, 28, 1)))\n",
    "\n",
    "# Adding maxpooling layer to get max value within a matrix\n",
    "model.add(MaxPooling2D(pool_size=(2,2)))\n",
    "\n",
    "model.add(Flatten())\n",
    "model.add(Dense(128, activation = \"relu\"))\n",
    "model.add(Dense(10, activation = \"softmax\"))"
   ]
  },
  {
   "cell_type": "code",
   "execution_count": 18,
   "id": "08b9d657-58bd-4a5d-82d4-b4d640d6df3e",
   "metadata": {},
   "outputs": [
    {
     "data": {
      "text/html": [
       "<pre style=\"white-space:pre;overflow-x:auto;line-height:normal;font-family:Menlo,'DejaVu Sans Mono',consolas,'Courier New',monospace\"><span style=\"font-weight: bold\">Model: \"sequential_2\"</span>\n",
       "</pre>\n"
      ],
      "text/plain": [
       "\u001b[1mModel: \"sequential_2\"\u001b[0m\n"
      ]
     },
     "metadata": {},
     "output_type": "display_data"
    },
    {
     "data": {
      "text/html": [
       "<pre style=\"white-space:pre;overflow-x:auto;line-height:normal;font-family:Menlo,'DejaVu Sans Mono',consolas,'Courier New',monospace\">┏━━━━━━━━━━━━━━━━━━━━━━━━━━━━━━━━━┳━━━━━━━━━━━━━━━━━━━━━━━━┳━━━━━━━━━━━━━━━┓\n",
       "┃<span style=\"font-weight: bold\"> Layer (type)                    </span>┃<span style=\"font-weight: bold\"> Output Shape           </span>┃<span style=\"font-weight: bold\">       Param # </span>┃\n",
       "┡━━━━━━━━━━━━━━━━━━━━━━━━━━━━━━━━━╇━━━━━━━━━━━━━━━━━━━━━━━━╇━━━━━━━━━━━━━━━┩\n",
       "│ conv2d_2 (<span style=\"color: #0087ff; text-decoration-color: #0087ff\">Conv2D</span>)               │ (<span style=\"color: #00d7ff; text-decoration-color: #00d7ff\">None</span>, <span style=\"color: #00af00; text-decoration-color: #00af00\">26</span>, <span style=\"color: #00af00; text-decoration-color: #00af00\">26</span>, <span style=\"color: #00af00; text-decoration-color: #00af00\">64</span>)     │           <span style=\"color: #00af00; text-decoration-color: #00af00\">640</span> │\n",
       "├─────────────────────────────────┼────────────────────────┼───────────────┤\n",
       "│ max_pooling2d_2 (<span style=\"color: #0087ff; text-decoration-color: #0087ff\">MaxPooling2D</span>)  │ (<span style=\"color: #00d7ff; text-decoration-color: #00d7ff\">None</span>, <span style=\"color: #00af00; text-decoration-color: #00af00\">13</span>, <span style=\"color: #00af00; text-decoration-color: #00af00\">13</span>, <span style=\"color: #00af00; text-decoration-color: #00af00\">64</span>)     │             <span style=\"color: #00af00; text-decoration-color: #00af00\">0</span> │\n",
       "├─────────────────────────────────┼────────────────────────┼───────────────┤\n",
       "│ flatten_2 (<span style=\"color: #0087ff; text-decoration-color: #0087ff\">Flatten</span>)             │ (<span style=\"color: #00d7ff; text-decoration-color: #00d7ff\">None</span>, <span style=\"color: #00af00; text-decoration-color: #00af00\">10816</span>)          │             <span style=\"color: #00af00; text-decoration-color: #00af00\">0</span> │\n",
       "├─────────────────────────────────┼────────────────────────┼───────────────┤\n",
       "│ dense_4 (<span style=\"color: #0087ff; text-decoration-color: #0087ff\">Dense</span>)                 │ (<span style=\"color: #00d7ff; text-decoration-color: #00d7ff\">None</span>, <span style=\"color: #00af00; text-decoration-color: #00af00\">128</span>)            │     <span style=\"color: #00af00; text-decoration-color: #00af00\">1,384,576</span> │\n",
       "├─────────────────────────────────┼────────────────────────┼───────────────┤\n",
       "│ dense_5 (<span style=\"color: #0087ff; text-decoration-color: #0087ff\">Dense</span>)                 │ (<span style=\"color: #00d7ff; text-decoration-color: #00d7ff\">None</span>, <span style=\"color: #00af00; text-decoration-color: #00af00\">10</span>)             │         <span style=\"color: #00af00; text-decoration-color: #00af00\">1,290</span> │\n",
       "└─────────────────────────────────┴────────────────────────┴───────────────┘\n",
       "</pre>\n"
      ],
      "text/plain": [
       "┏━━━━━━━━━━━━━━━━━━━━━━━━━━━━━━━━━┳━━━━━━━━━━━━━━━━━━━━━━━━┳━━━━━━━━━━━━━━━┓\n",
       "┃\u001b[1m \u001b[0m\u001b[1mLayer (type)                   \u001b[0m\u001b[1m \u001b[0m┃\u001b[1m \u001b[0m\u001b[1mOutput Shape          \u001b[0m\u001b[1m \u001b[0m┃\u001b[1m \u001b[0m\u001b[1m      Param #\u001b[0m\u001b[1m \u001b[0m┃\n",
       "┡━━━━━━━━━━━━━━━━━━━━━━━━━━━━━━━━━╇━━━━━━━━━━━━━━━━━━━━━━━━╇━━━━━━━━━━━━━━━┩\n",
       "│ conv2d_2 (\u001b[38;5;33mConv2D\u001b[0m)               │ (\u001b[38;5;45mNone\u001b[0m, \u001b[38;5;34m26\u001b[0m, \u001b[38;5;34m26\u001b[0m, \u001b[38;5;34m64\u001b[0m)     │           \u001b[38;5;34m640\u001b[0m │\n",
       "├─────────────────────────────────┼────────────────────────┼───────────────┤\n",
       "│ max_pooling2d_2 (\u001b[38;5;33mMaxPooling2D\u001b[0m)  │ (\u001b[38;5;45mNone\u001b[0m, \u001b[38;5;34m13\u001b[0m, \u001b[38;5;34m13\u001b[0m, \u001b[38;5;34m64\u001b[0m)     │             \u001b[38;5;34m0\u001b[0m │\n",
       "├─────────────────────────────────┼────────────────────────┼───────────────┤\n",
       "│ flatten_2 (\u001b[38;5;33mFlatten\u001b[0m)             │ (\u001b[38;5;45mNone\u001b[0m, \u001b[38;5;34m10816\u001b[0m)          │             \u001b[38;5;34m0\u001b[0m │\n",
       "├─────────────────────────────────┼────────────────────────┼───────────────┤\n",
       "│ dense_4 (\u001b[38;5;33mDense\u001b[0m)                 │ (\u001b[38;5;45mNone\u001b[0m, \u001b[38;5;34m128\u001b[0m)            │     \u001b[38;5;34m1,384,576\u001b[0m │\n",
       "├─────────────────────────────────┼────────────────────────┼───────────────┤\n",
       "│ dense_5 (\u001b[38;5;33mDense\u001b[0m)                 │ (\u001b[38;5;45mNone\u001b[0m, \u001b[38;5;34m10\u001b[0m)             │         \u001b[38;5;34m1,290\u001b[0m │\n",
       "└─────────────────────────────────┴────────────────────────┴───────────────┘\n"
      ]
     },
     "metadata": {},
     "output_type": "display_data"
    },
    {
     "data": {
      "text/html": [
       "<pre style=\"white-space:pre;overflow-x:auto;line-height:normal;font-family:Menlo,'DejaVu Sans Mono',consolas,'Courier New',monospace\"><span style=\"font-weight: bold\"> Total params: </span><span style=\"color: #00af00; text-decoration-color: #00af00\">1,386,506</span> (5.29 MB)\n",
       "</pre>\n"
      ],
      "text/plain": [
       "\u001b[1m Total params: \u001b[0m\u001b[38;5;34m1,386,506\u001b[0m (5.29 MB)\n"
      ]
     },
     "metadata": {},
     "output_type": "display_data"
    },
    {
     "data": {
      "text/html": [
       "<pre style=\"white-space:pre;overflow-x:auto;line-height:normal;font-family:Menlo,'DejaVu Sans Mono',consolas,'Courier New',monospace\"><span style=\"font-weight: bold\"> Trainable params: </span><span style=\"color: #00af00; text-decoration-color: #00af00\">1,386,506</span> (5.29 MB)\n",
       "</pre>\n"
      ],
      "text/plain": [
       "\u001b[1m Trainable params: \u001b[0m\u001b[38;5;34m1,386,506\u001b[0m (5.29 MB)\n"
      ]
     },
     "metadata": {},
     "output_type": "display_data"
    },
    {
     "data": {
      "text/html": [
       "<pre style=\"white-space:pre;overflow-x:auto;line-height:normal;font-family:Menlo,'DejaVu Sans Mono',consolas,'Courier New',monospace\"><span style=\"font-weight: bold\"> Non-trainable params: </span><span style=\"color: #00af00; text-decoration-color: #00af00\">0</span> (0.00 B)\n",
       "</pre>\n"
      ],
      "text/plain": [
       "\u001b[1m Non-trainable params: \u001b[0m\u001b[38;5;34m0\u001b[0m (0.00 B)\n"
      ]
     },
     "metadata": {},
     "output_type": "display_data"
    }
   ],
   "source": [
    "\n",
    "model.summary()"
   ]
  },
  {
   "cell_type": "code",
   "execution_count": 21,
   "id": "f504406a-293b-472a-a10b-96270b77e75e",
   "metadata": {},
   "outputs": [
    {
     "name": "stdout",
     "output_type": "stream",
     "text": [
      "Epoch 1/5\n",
      "\u001b[1m1500/1500\u001b[0m \u001b[32m━━━━━━━━━━━━━━━━━━━━\u001b[0m\u001b[37m\u001b[0m \u001b[1m36s\u001b[0m 22ms/step - accuracy: 0.7775 - loss: 6.1276 - val_accuracy: 0.8750 - val_loss: 0.3654\n",
      "Epoch 2/5\n",
      "\u001b[1m1500/1500\u001b[0m \u001b[32m━━━━━━━━━━━━━━━━━━━━\u001b[0m\u001b[37m\u001b[0m \u001b[1m32s\u001b[0m 21ms/step - accuracy: 0.8947 - loss: 0.3000 - val_accuracy: 0.8858 - val_loss: 0.3210\n",
      "Epoch 3/5\n",
      "\u001b[1m1500/1500\u001b[0m \u001b[32m━━━━━━━━━━━━━━━━━━━━\u001b[0m\u001b[37m\u001b[0m \u001b[1m32s\u001b[0m 21ms/step - accuracy: 0.9121 - loss: 0.2432 - val_accuracy: 0.8832 - val_loss: 0.3324\n",
      "Epoch 4/5\n",
      "\u001b[1m1500/1500\u001b[0m \u001b[32m━━━━━━━━━━━━━━━━━━━━\u001b[0m\u001b[37m\u001b[0m \u001b[1m32s\u001b[0m 21ms/step - accuracy: 0.9186 - loss: 0.2150 - val_accuracy: 0.8908 - val_loss: 0.3214\n",
      "Epoch 5/5\n",
      "\u001b[1m1500/1500\u001b[0m \u001b[32m━━━━━━━━━━━━━━━━━━━━\u001b[0m\u001b[37m\u001b[0m \u001b[1m32s\u001b[0m 21ms/step - accuracy: 0.9250 - loss: 0.1980 - val_accuracy: 0.8889 - val_loss: 0.3401\n"
     ]
    },
    {
     "data": {
      "text/plain": [
       "<keras.src.callbacks.history.History at 0x200e2dbb710>"
      ]
     },
     "execution_count": 21,
     "metadata": {},
     "output_type": "execute_result"
    }
   ],
   "source": [
    "\n",
    "\n",
    "model.compile(optimizer = 'adam', loss = 'sparse_categorical_crossentropy', metrics = ['accuracy'])\n",
    "     \n",
    "\n",
    "model.fit(train_x.astype(np.float32), train_y.astype(np.float32), epochs = 5, validation_split = 0.2)\n",
    "     \n"
   ]
  },
  {
   "cell_type": "code",
   "execution_count": 22,
   "id": "f8e04b0c-1e91-4c83-98e6-a2ba8d20bc08",
   "metadata": {},
   "outputs": [
    {
     "name": "stdout",
     "output_type": "stream",
     "text": [
      "\u001b[1m313/313\u001b[0m \u001b[32m━━━━━━━━━━━━━━━━━━━━\u001b[0m\u001b[37m\u001b[0m \u001b[1m2s\u001b[0m 5ms/step - accuracy: 0.8803 - loss: 0.3775\n"
     ]
    }
   ],
   "source": [
    "\n",
    "\n",
    "loss, acc = model.evaluate(test_x, test_y)\n",
    "     \n"
   ]
  },
  {
   "cell_type": "code",
   "execution_count": 23,
   "id": "1500208a-0423-46c8-81c0-53227b7eb2e2",
   "metadata": {},
   "outputs": [],
   "source": [
    "labels = ['t_shirt', 'trouser', 'pullover', 'dress', 'coat', 'sandal', 'shirt', 'sneaker',   'bag', 'ankle_boots']"
   ]
  },
  {
   "cell_type": "code",
   "execution_count": 24,
   "id": "3a2a108e-bf16-4862-9d11-7f063a9146e2",
   "metadata": {},
   "outputs": [
    {
     "name": "stdout",
     "output_type": "stream",
     "text": [
      "\u001b[1m1/1\u001b[0m \u001b[32m━━━━━━━━━━━━━━━━━━━━\u001b[0m\u001b[37m\u001b[0m \u001b[1m0s\u001b[0m 162ms/step\n"
     ]
    }
   ],
   "source": [
    "predictions = model.predict(test_x[:1])"
   ]
  },
  {
   "cell_type": "code",
   "execution_count": 25,
   "id": "568d3559-82c1-40ab-9453-c2a606ba5312",
   "metadata": {},
   "outputs": [],
   "source": [
    "\n",
    "label = labels[np.argmax(predictions)]"
   ]
  },
  {
   "cell_type": "code",
   "execution_count": 26,
   "id": "b76af1e4-3ddd-496d-bb84-d76182b4d523",
   "metadata": {},
   "outputs": [
    {
     "name": "stdout",
     "output_type": "stream",
     "text": [
      "ankle_boots\n"
     ]
    },
    {
     "data": {
      "text/plain": [
       "<function matplotlib.pyplot.show(close=None, block=None)>"
      ]
     },
     "execution_count": 26,
     "metadata": {},
     "output_type": "execute_result"
    },
    {
     "data": {
      "image/png": "[encoded data removed]",
      "text/plain": [
       "<Figure size 640x480 with 1 Axes>"
      ]
     },
     "metadata": {},
     "output_type": "display_data"
    }
   ],
   "source": [
    "\n",
    "import matplotlib.pyplot as plt\n",
    "print(label)\n",
    "plt.imshow(test_x[:1][0])\n",
    "plt.show"
   ]
  },
  {
   "cell_type": "code",
   "execution_count": null,
   "id": "4ef5118c-8eef-4a60-b1a6-5a94a2da7eb7",
   "metadata": {},
   "outputs": [],
   "source": []
  }
 ],
 "metadata": {
  "kernelspec": {
   "display_name": "Python [conda env:base] *",
   "language": "python",
   "name": "conda-base-py"
  },
  "language_info": {
   "codemirror_mode": {
    "name": "ipython",
    "version": 3
   },
   "file_extension": ".py",
   "mimetype": "text/x-python",
   "name": "python",
   "nbconvert_exporter": "python",
   "pygments_lexer": "ipython3",
   "version": "3.12.7"
  }
 },
 "nbformat": 4,
 "nbformat_minor": 5
}
