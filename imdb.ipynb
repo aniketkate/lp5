{
 "cells": [
  {
   "cell_type": "code",
   "execution_count": 1,
   "id": "6cd10c09-86e7-4c1f-a198-79cdc7dbd3d3",
   "metadata": {},
   "outputs": [],
   "source": [
    "from keras.datasets import imdb\n",
    "(train_data, train_labels), (test_data, test_labels) = imdb.load_data(num_words = 10000)\n"
   ]
  },
  {
   "cell_type": "code",
   "execution_count": 3,
   "id": "f2d76d44-4d0f-4a2e-a540-431e803cd9c9",
   "metadata": {},
   "outputs": [
    {
     "data": {
      "text/plain": [
       "1"
      ]
     },
     "execution_count": 3,
     "metadata": {},
     "output_type": "execute_result"
    }
   ],
   "source": [
    "\n",
    "    \n",
    "train_labels[0]\n",
    "         \n"
   ]
  },
  {
   "cell_type": "code",
   "execution_count": 5,
   "id": "e898f57e-7672-4747-9fa4-0c06cbd0798c",
   "metadata": {},
   "outputs": [],
   "source": [
    "# word_index = imdb.get_word_index()\n",
    "\n",
    "# reverse_word_index = dict([(value, key) for (key, value) in word_index.items()])\n",
    "\n",
    "# decoded_review = ' '.join([reverse_word_index.get(i-3, '?') for i in train_data[0]])\n",
    "\n",
    "# decoded_review"
   ]
  },
  {
   "cell_type": "code",
   "execution_count": 39,
   "id": "d1fd4e50-d157-47b8-acaa-e73fed9bf8b8",
   "metadata": {},
   "outputs": [
    {
     "data": {
      "text/plain": [
       "array([0., 1., 1., ..., 0., 0., 0.])"
      ]
     },
     "execution_count": 39,
     "metadata": {},
     "output_type": "execute_result"
    }
   ],
   "source": [
    "\n",
    "import numpy as np\n",
    "\n",
    "def vectorize_sequences(sequences, dimension=10000):\n",
    "    results = np.zeros((len(sequences), dimension))\n",
    "    for i,sequence in enumerate(sequences):\n",
    "        results[i,sequence] = 1\n",
    "    return results\n",
    "\n",
    "X_train = vectorize_sequences(train_data)\n",
    "\n",
    "X_test = vectorize_sequences(test_data)\n",
    "\n",
    "X_train[0]"
   ]
  },
  {
   "cell_type": "code",
   "execution_count": 9,
   "id": "c4c6395e-de03-4e6b-b22d-2634fce48a9d",
   "metadata": {},
   "outputs": [
    {
     "data": {
      "text/plain": [
       "array([0., 1., 1., ..., 0., 0., 0.])"
      ]
     },
     "execution_count": 9,
     "metadata": {},
     "output_type": "execute_result"
    }
   ],
   "source": [
    "import numpy as np \n",
    "def vectorize_sequences(sequences,dimension=10000):\n",
    "    results = np.zeros((len(sequences),dimension))\n",
    "    for i,sequence in enumerate(sequences):\n",
    "        results[i,sequence]=1\n",
    "    return results\n",
    "\n",
    "X_train = vectorize_sequences(train_data)\n",
    "\n",
    "X_test = vectorize_sequences(test_data)\n",
    "\n",
    "X_train[0]"
   ]
  },
  {
   "cell_type": "code",
   "execution_count": 11,
   "id": "3ee125a7-28d3-414c-b9e4-822ae9881767",
   "metadata": {},
   "outputs": [],
   "source": [
    "y_train = np.asarray(train_labels).astype('float32')\n",
    "y_test  = np.asarray(test_labels).astype('float32')"
   ]
  },
  {
   "cell_type": "code",
   "execution_count": 15,
   "id": "0d771016-7934-44a0-83f5-2a3afd4bd5ff",
   "metadata": {},
   "outputs": [],
   "source": [
    "\n",
    "\n",
    "from keras import models\n",
    "from keras import layers\n",
    "\n",
    "model = models.Sequential()\n",
    "model.add(layers.Dense(16, activation='relu', input_shape=(10000,)))\n",
    "model.add(layers.Dense(16, activation='relu'))\n",
    "model.add(layers.Dense(1, activation='sigmoid'))\n",
    "    \n"
   ]
  },
  {
   "cell_type": "code",
   "execution_count": 17,
   "id": "70d33f43-5cbe-4597-8b56-ab5cbff131f0",
   "metadata": {},
   "outputs": [],
   "source": [
    " \n",
    "\n",
    "from keras import optimizers\n",
    "from keras import losses\n",
    "from keras import metrics\n",
    "\n",
    "model.compile(optimizer=optimizers.RMSprop(learning_rate=0.001),\n",
    "              loss = losses.binary_crossentropy,\n",
    "              metrics = [metrics.binary_accuracy])\n",
    "     "
   ]
  },
  {
   "cell_type": "code",
   "execution_count": 19,
   "id": "ef8246cf-de12-4d15-a9b7-3517907f188b",
   "metadata": {},
   "outputs": [],
   "source": [
    "X_val = X_train[:10000]\n",
    "partial_X_train = X_train[10000:]\n",
    "\n",
    "y_val = y_train[:10000]\n",
    "partial_y_train = y_train[10000:]"
   ]
  },
  {
   "cell_type": "code",
   "execution_count": 22,
   "id": "2a1bd97b-0766-448c-9377-16c207e3ec35",
   "metadata": {},
   "outputs": [
    {
     "name": "stdout",
     "output_type": "stream",
     "text": [
      "Epoch 1/10\n",
      "\u001b[1m30/30\u001b[0m \u001b[32m━━━━━━━━━━━━━━━━━━━━\u001b[0m\u001b[37m\u001b[0m \u001b[1m1s\u001b[0m 21ms/step - binary_accuracy: 1.0000 - loss: 5.8533e-06 - val_binary_accuracy: 0.8651 - val_loss: 1.5962\n",
      "Epoch 2/10\n",
      "\u001b[1m30/30\u001b[0m \u001b[32m━━━━━━━━━━━━━━━━━━━━\u001b[0m\u001b[37m\u001b[0m \u001b[1m0s\u001b[0m 12ms/step - binary_accuracy: 1.0000 - loss: 5.2952e-06 - val_binary_accuracy: 0.8656 - val_loss: 1.5966\n",
      "Epoch 3/10\n",
      "\u001b[1m30/30\u001b[0m \u001b[32m━━━━━━━━━━━━━━━━━━━━\u001b[0m\u001b[37m\u001b[0m \u001b[1m0s\u001b[0m 12ms/step - binary_accuracy: 1.0000 - loss: 5.7395e-06 - val_binary_accuracy: 0.8654 - val_loss: 1.5974\n",
      "Epoch 4/10\n",
      "\u001b[1m30/30\u001b[0m \u001b[32m━━━━━━━━━━━━━━━━━━━━\u001b[0m\u001b[37m\u001b[0m \u001b[1m0s\u001b[0m 12ms/step - binary_accuracy: 1.0000 - loss: 5.8331e-06 - val_binary_accuracy: 0.8656 - val_loss: 1.5988\n",
      "Epoch 5/10\n",
      "\u001b[1m30/30\u001b[0m \u001b[32m━━━━━━━━━━━━━━━━━━━━\u001b[0m\u001b[37m\u001b[0m \u001b[1m0s\u001b[0m 12ms/step - binary_accuracy: 1.0000 - loss: 5.5760e-06 - val_binary_accuracy: 0.8654 - val_loss: 1.5995\n",
      "Epoch 6/10\n",
      "\u001b[1m30/30\u001b[0m \u001b[32m━━━━━━━━━━━━━━━━━━━━\u001b[0m\u001b[37m\u001b[0m \u001b[1m0s\u001b[0m 12ms/step - binary_accuracy: 1.0000 - loss: 5.8703e-06 - val_binary_accuracy: 0.8653 - val_loss: 1.6004\n",
      "Epoch 7/10\n",
      "\u001b[1m30/30\u001b[0m \u001b[32m━━━━━━━━━━━━━━━━━━━━\u001b[0m\u001b[37m\u001b[0m \u001b[1m0s\u001b[0m 12ms/step - binary_accuracy: 1.0000 - loss: 5.6421e-06 - val_binary_accuracy: 0.8654 - val_loss: 1.6020\n",
      "Epoch 8/10\n",
      "\u001b[1m30/30\u001b[0m \u001b[32m━━━━━━━━━━━━━━━━━━━━\u001b[0m\u001b[37m\u001b[0m \u001b[1m0s\u001b[0m 13ms/step - binary_accuracy: 1.0000 - loss: 5.8927e-06 - val_binary_accuracy: 0.8656 - val_loss: 1.6026\n",
      "Epoch 9/10\n",
      "\u001b[1m30/30\u001b[0m \u001b[32m━━━━━━━━━━━━━━━━━━━━\u001b[0m\u001b[37m\u001b[0m \u001b[1m0s\u001b[0m 12ms/step - binary_accuracy: 1.0000 - loss: 5.8015e-06 - val_binary_accuracy: 0.8656 - val_loss: 1.6037\n",
      "Epoch 10/10\n",
      "\u001b[1m30/30\u001b[0m \u001b[32m━━━━━━━━━━━━━━━━━━━━\u001b[0m\u001b[37m\u001b[0m \u001b[1m0s\u001b[0m 12ms/step - binary_accuracy: 1.0000 - loss: 5.3602e-06 - val_binary_accuracy: 0.8654 - val_loss: 1.6044\n"
     ]
    }
   ],
   "source": [
    "history = model.fit(partial_X_train, partial_y_train, epochs=10, batch_size=512, validation_data=(X_val, y_val))\n",
    "     "
   ]
  },
  {
   "cell_type": "code",
   "execution_count": 24,
   "id": "6f80a29b-1754-4c11-b5b4-9541a7d8f75d",
   "metadata": {},
   "outputs": [
    {
     "name": "stdout",
     "output_type": "stream",
     "text": [
      "\u001b[1m782/782\u001b[0m \u001b[32m━━━━━━━━━━━━━━━━━━━━\u001b[0m\u001b[37m\u001b[0m \u001b[1m1s\u001b[0m 2ms/step - binary_accuracy: 0.8501 - loss: 1.7494\n",
      "Mean squared error on test data is:  1.7165344953536987\n",
      "Mean absolute error on test data is:  0.8538399934768677\n"
     ]
    }
   ],
   "source": [
    "mse_nn, mae_nn = model.evaluate(X_test, y_test)\n",
    "\n",
    "print('Mean squared error on test data is: ', mse_nn)\n",
    "print('Mean absolute error on test data is: ', mae_nn)"
   ]
  },
  {
   "cell_type": "code",
   "execution_count": 26,
   "id": "c5d6fd71-3205-469e-8f1a-846b1d7f9b02",
   "metadata": {},
   "outputs": [
    {
     "name": "stdout",
     "output_type": "stream",
     "text": [
      "\u001b[1m1/1\u001b[0m \u001b[32m━━━━━━━━━━━━━━━━━━━━\u001b[0m\u001b[37m\u001b[0m \u001b[1m0s\u001b[0m 72ms/step\n",
      "Predicted score: 4.6918547e-05\n",
      "Predicted label: Negative review\n",
      "Actual label: Negative review\n"
     ]
    }
   ],
   "source": [
    "# Predict the sentiment of the first test review\n",
    "sample_review = X_test[0].reshape(1, -1)  # Reshape because model expects 2D input\n",
    "prediction = model.predict(sample_review)\n",
    "\n",
    "print(\"Predicted score:\", prediction[0][0])\n",
    "\n",
    "# Convert to class label\n",
    "if prediction[0][0] >= 0.5:\n",
    "    print(\"Predicted label: Positive review\")\n",
    "else:\n",
    "    print(\"Predicted label: Negative review\")\n",
    "\n",
    "# Actual label\n",
    "print(\"Actual label:\", \"Positive review\" if y_test[0] == 1.0 else \"Negative review\")\n"
   ]
  },
  {
   "cell_type": "code",
   "execution_count": 1,
   "id": "90001549-df74-46a3-b36e-75bdcfd7262e",
   "metadata": {},
   "outputs": [
    {
     "name": "stderr",
     "output_type": "stream",
     "text": [
      "fatal: destination path 'sem8' already exists and is not an empty directory.\n"
     ]
    }
   ],
   "source": [
    "!git clone https://github.com/afnan47/sem8.git"
   ]
  },
  {
   "cell_type": "code",
   "execution_count": null,
   "id": "81b6db88-4ed1-4dfa-81f7-e61536acf640",
   "metadata": {},
   "outputs": [],
   "source": []
  }
 ],
 "metadata": {
  "kernelspec": {
   "display_name": "Python [conda env:base] *",
   "language": "python",
   "name": "conda-base-py"
  },
  "language_info": {
   "codemirror_mode": {
    "name": "ipython",
    "version": 3
   },
   "file_extension": ".py",
   "mimetype": "text/x-python",
   "name": "python",
   "nbconvert_exporter": "python",
   "pygments_lexer": "ipython3",
   "version": "3.12.7"
  }
 },
 "nbformat": 4,
 "nbformat_minor": 5
}
